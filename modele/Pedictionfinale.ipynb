{
  "cells": [
    {
      "cell_type": "code",
      "execution_count": 89,
      "metadata": {
        "id": "z2QkqSH1ODf_"
      },
      "outputs": [],
      "source": [
        "import pandas as pd\n",
        "import numpy as np\n",
        "from sklearn.model_selection import train_test_split, cross_val_score\n",
        "from sklearn.feature_extraction.text import TfidfVectorizer\n",
        "from sklearn.ensemble import RandomForestClassifier\n",
        "from sklearn.pipeline import Pipeline\n",
        "from sklearn.compose import ColumnTransformer\n",
        "from sklearn.preprocessing import LabelEncoder\n",
        "from sklearn.metrics import classification_report, confusion_matrix\n",
        "import datetime\n",
        "import matplotlib.pyplot as plt\n",
        "import seaborn as sns\n",
        "from sklearn.model_selection import learning_curve\n",
        "import pandas as pd\n",
        "import numpy as np\n",
        "from sklearn.model_selection import train_test_split, cross_val_score\n",
        "from sklearn.feature_extraction.text import TfidfVectorizer\n",
        "from sklearn.ensemble import RandomForestClassifier\n",
        "# from sklearn.pipeline import Pipeline\n",
        "from sklearn.compose import ColumnTransformer\n",
        "from sklearn.preprocessing import LabelEncoder\n",
        "from sklearn.metrics import classification_report, confusion_matrix\n",
        "import datetime\n",
        "import matplotlib.pyplot as plt\n",
        "import seaborn as sns\n",
        "from sklearn.model_selection import learning_curve\n",
        "import joblib\n",
        "from sklearn.metrics import roc_curve, auc\n",
        "from imblearn.over_sampling import SMOTE\n",
        "from imblearn.pipeline import make_pipeline\n",
        "from sklearn.impute import SimpleImputer\n",
        "from imblearn.pipeline import Pipeline\n"
      ]
    },
    {
      "cell_type": "code",
      "execution_count": 90,
      "metadata": {
        "id": "avh6e8qDOVhM"
      },
      "outputs": [],
      "source": [
        "df_vehicules_flotte = pd.read_excel(r\"C:\\Ai\\modele\\data\\Données Projet Maintenance Flotte.xlsx\", sheet_name=\"VEHICULES - Tableau 1\")\n",
        "df_DT = pd.read_excel(r\"C:\\Ai\\modele\\data\\Données Historique Maintenance.xlsx\", sheet_name=\"DT\")\n",
        "df_genre= pd.read_excel(r\"C:\\Ai\\modele\\data\\Données Projet Maintenance Flotte.xlsx\", sheet_name=\"GENRES - Tableau 1\")\n",
        "df_genre = df_genre.rename(columns={\"CODE_GENR\": \"GENRE\"})\n",
        "df_FT = pd.read_excel(r\"C:\\Ai\\modele\\data\\Données Historique Maintenance.xlsx\", sheet_name=\"FT\")\n",
        "df_kilo = pd.read_excel(r\"C:\\Ai\\modele\\data\\Kilométrage Parcouru Véhicules.xlsx\")"
      ]
    },
    {
      "cell_type": "code",
      "execution_count": 91,
      "metadata": {
        "colab": {
          "base_uri": "https://localhost:8080/"
        },
        "id": "azMugAhJLE-c",
        "outputId": "36dcef0f-e089-415d-fdc5-f6f0de5e3ab2"
      },
      "outputs": [
        {
          "name": "stdout",
          "output_type": "stream",
          "text": [
            "Fichier généré avec succès !\n"
          ]
        }
      ],
      "source": [
        "\n",
        "# Grouper par véhicule et sommer le kilométrage\n",
        "km_total = df_kilo.groupby('CODE_VEHI')['NOMB_UNIT_FONC_NUF'].sum().reset_index()\n",
        "km_total.columns = ['CODE_VEHI', 'Kilometrage_Total']\n",
        "\n",
        "# Exporter vers un nouveau fichier Excel\n",
        "km_total.to_csv(\"Kilométrage_Total_Par_Véhicule.csv\", index=False)\n",
        "\n",
        "print(\"Fichier généré avec succès !\")"
      ]
    },
    {
      "cell_type": "code",
      "execution_count": 92,
      "metadata": {
        "id": "A7iahT3fHltD"
      },
      "outputs": [],
      "source": [
        "df_fusion1 = pd.merge(df_DT, df_vehicules_flotte, on=\"CODE_VEHI\", how=\"left\")\n",
        "\n",
        "df_fusion2 = pd.merge(df_fusion1, df_genre, on=\"GENRE\", how=\"left\")\n",
        "\n",
        "df_fusion3= pd.merge(df_fusion2, df_FT, on=\"ID_DT\", how=\"left\")\n",
        "\n",
        "df_min=df_fusion3.head()\n",
        "\n",
        "df = pd.merge(df_fusion3, km_total, on=\"CODE_VEHI\", how=\"left\")\n",
        "df.to_csv(\"df.csv\", index=False)\n"
      ]
    },
    {
      "cell_type": "code",
      "execution_count": 93,
      "metadata": {
        "colab": {
          "base_uri": "https://localhost:8080/"
        },
        "id": "hA_QZMUiU1kk",
        "outputId": "ada41418-7868-4f65-e3d2-bbc2c63859d5"
      },
      "outputs": [
        {
          "name": "stderr",
          "output_type": "stream",
          "text": [
            "<>:1: SyntaxWarning: invalid escape sequence '\\A'\n",
            "<>:1: SyntaxWarning: invalid escape sequence '\\A'\n",
            "C:\\Users\\admin\\AppData\\Local\\Temp\\ipykernel_8792\\1415896960.py:1: SyntaxWarning: invalid escape sequence '\\A'\n",
            "  df = pd.read_csv(\"C:\\Ai\\modele\\df.csv\")\n",
            "C:\\Users\\admin\\AppData\\Local\\Temp\\ipykernel_8792\\1415896960.py:1: DtypeWarning: Columns (1,21) have mixed types. Specify dtype option on import or set low_memory=False.\n",
            "  df = pd.read_csv(\"C:\\Ai\\modele\\df.csv\")\n"
          ]
        }
      ],
      "source": [
        "df = pd.read_csv(\"C:\\Ai\\modele\\df.csv\")"
      ]
    },
    {
      "cell_type": "code",
      "execution_count": 94,
      "metadata": {
        "id": "Vntiw3uJMy8t"
      },
      "outputs": [],
      "source": [
        "# Créer la variable cible (1 pour panne, 0 pour maintenance préventive)\n",
        "df['is_panne'] = df['NATU_INTE_DT'].str.contains('MAINT_CORR', na= False).astype(int)"
      ]
    },
    {
      "cell_type": "code",
      "execution_count": 95,
      "metadata": {
        "id": "0bObA90bO9dy"
      },
      "outputs": [],
      "source": [
        "# Combiner les descriptions textuelles\n",
        "df['text_description'] = df['TRAV_EFFE_FT'].fillna('') + ' ' + \\\n",
        "                        df['APPA_VISI_FT'].fillna('')\n",
        "#df['NATU_TRAV_DT'].fillna('') + ' ' + \\\n",
        "\n",
        "# Convertir les dates en datetime\n",
        "df['DATE_DT'] = pd.to_datetime(df['DATE_DT'])\n",
        "\n",
        "# Extraire des caractéristiques temporelles\n",
        "df['month'] = df['DATE_DT'].dt.month\n",
        "df['dayofweek'] = df['DATE_DT'].dt.dayofweek\n",
        "\n",
        "\n",
        "# current_year = datetime.datetime.now().year\n",
        "# df['vehicle_age'] = current_year - pd.to_numeric(df['NUME_IMMA_VEHI'].str.extract('(\\d{2})').iloc[:, 0], errors='coerce') + 2000\n",
        "\n",
        "# # Calculer l'âge du véhicule\n",
        "import datetime\n",
        "current_year = datetime.datetime.now().year\n",
        "\n",
        "# Extraire les deux chiffres avant le premier tiret\n",
        "# Exemple : \"000017-513-22\" -> 17\n",
        "year_2digits = pd.to_numeric(df['NUME_IMMA_VEHI'].str.extract(r'(\\d{2})-')[0], errors='coerce')\n",
        "\n",
        "# Convertir en année complète : 88 -> 1988, 17 -> 2017\n",
        "def convertir_annee(val):\n",
        "    if pd.isna(val):\n",
        "        return None\n",
        "    val = int(val)\n",
        "    return 2000 + val if val < 25 else 1900 + val\n",
        "\n",
        "full_year = year_2digits.apply(convertir_annee)\n",
        "\n",
        "# Calculer l’âge du véhicule\n",
        "df['vehicle_age'] = current_year - full_year\n",
        "\n"
      ]
    },
    {
      "cell_type": "code",
      "execution_count": 96,
      "metadata": {
        "colab": {
          "base_uri": "https://localhost:8080/",
          "height": 453
        },
        "collapsed": true,
        "id": "fXoRNd3qoaE7",
        "outputId": "7b867c81-b5e2-45eb-9583-98e62faf27d6"
      },
      "outputs": [
        {
          "name": "stdout",
          "output_type": "stream",
          "text": [
            "\n",
            "Création de visualisations...\n"
          ]
        },
        {
          "data": {
            "image/png": "[encoded data removed]",
            "text/plain": [
              "<Figure size 1000x600 with 1 Axes>"
            ]
          },
          "metadata": {},
          "output_type": "display_data"
        }
      ],
      "source": [
        "# Visualisation des données\n",
        "print(\"\\nCréation de visualisations...\")\n",
        "\n",
        "plt.figure(figsize=(10, 6))\n",
        "sns.countplot(x='DESI_GENR', hue='is_panne', data=df)\n",
        "plt.title('Distribution des pannes par genre de véhicule')\n",
        "plt.xticks(rotation=45, ha='right')\n",
        "plt.tight_layout()\n",
        "plt.savefig('pannes_par_genre.png')"
      ]
    },
    {
      "cell_type": "code",
      "execution_count": 97,
      "metadata": {
        "colab": {
          "base_uri": "https://localhost:8080/",
          "height": 416
        },
        "id": "-u1uhaGFps-F",
        "outputId": "77e477e0-4866-414b-c935-414e105c4890"
      },
      "outputs": [
        {
          "data": {
            "image/png": "[encoded data removed]",
            "text/plain": [
              "<Figure size 1000x600 with 1 Axes>"
            ]
          },
          "metadata": {},
          "output_type": "display_data"
        }
      ],
      "source": [
        "plt.figure(figsize=(10, 6))\n",
        "sns.countplot(x='MARQUE', hue='is_panne', data=df)\n",
        "plt.title('Distribution des pannes par marque')\n",
        "plt.xticks(rotation=45, ha='right')\n",
        "plt.tight_layout()\n",
        "plt.savefig('pannes_par_marque.png')"
      ]
    },
    {
      "cell_type": "code",
      "execution_count": 98,
      "metadata": {},
      "outputs": [],
      "source": [
        "# Encoder les variables catégorielles\n",
        "label_encoders = {}\n",
        "categorical_features = ['MARQUE', 'TYPE', 'GENRE', 'STATUT','DESI_GENR']\n",
        "\n",
        "for feature in categorical_features:\n",
        "    le = LabelEncoder()\n",
        "    df[feature] = le.fit_transform(df[feature].fillna('UNKNOWN'))\n",
        "    label_encoders[feature] = le\n",
        "    joblib.dump(le, f\"label_encoder_{feature}.joblib\")\n",
        "\n",
        "# Préparer les features\n",
        "text_features = ['text_description']\n",
        "categorical_features = ['MARQUE', 'TYPE', 'GENRE', 'STATUT','DESI_GENR']\n",
        "numerical_features = ['month', 'dayofweek', 'vehicle_age', 'Kilometrage_Total']"
      ]
    },
    {
      "cell_type": "code",
      "execution_count": 100,
      "metadata": {
        "colab": {
          "base_uri": "https://localhost:8080/"
        },
        "id": "5D14AT8iWK3z",
        "outputId": "66b157be-5976-43cd-984f-483405fcebed"
      },
      "outputs": [
        {
          "data": {
            "text/plain": [
              "np.float64(1.0)"
            ]
          },
          "execution_count": 100,
          "metadata": {},
          "output_type": "execute_result"
        }
      ],
      "source": [
        "df['vehicle_age'].min()"
      ]
    },
    {
      "cell_type": "code",
      "execution_count": 101,
      "metadata": {
        "id": "ZFRFQkRPloiW"
      },
      "outputs": [],
      "source": [
        "X = df[text_features + categorical_features + numerical_features]\n",
        "y = df['is_panne']"
      ]
    },
    {
      "cell_type": "code",
      "execution_count": 102,
      "metadata": {
        "colab": {
          "base_uri": "https://localhost:8080/"
        },
        "id": "OLGWx7fy0v_O",
        "outputId": "9d79b8e2-0cc8-46ed-bc1a-4107b646cafb"
      },
      "outputs": [
        {
          "name": "stdout",
          "output_type": "stream",
          "text": [
            "Distribution des classes:\n",
            "is_panne\n",
            "1    29659\n",
            "0     7708\n",
            "Name: count, dtype: int64\n"
          ]
        }
      ],
      "source": [
        "# Ajoutez cette analyse juste après df['is_panne'].value_counts()\n",
        "print(\"Distribution des classes:\")\n",
        "print(y.value_counts())\n",
        "\n",
        "# Visualisation du déséquilibre\n",
        "plt.figure(figsize=(6,4))\n",
        "sns.countplot(x=df['is_panne'])\n",
        "plt.title('Distribution des classes (0: Non-panne, 1: Panne)')\n",
        "plt.savefig('class_distribution.png')\n",
        "plt.close()"
      ]
    },
    {
      "cell_type": "code",
      "execution_count": 103,
      "metadata": {
        "id": "L3_ucgu1lrnY"
      },
      "outputs": [],
      "source": [
        "# Split des données\n",
        "X_train, X_test, y_train, y_test = train_test_split(X, y, test_size=0.2, random_state=42, stratify=y)"
      ]
    },
    {
      "cell_type": "code",
      "execution_count": 104,
      "metadata": {
        "colab": {
          "base_uri": "https://localhost:8080/"
        },
        "id": "MBNF8fstg7SI",
        "outputId": "0c444cc0-f25c-4abc-fbc1-5529b959b912"
      },
      "outputs": [
        {
          "name": "stdout",
          "output_type": "stream",
          "text": [
            "Scores de validation croisée: [0.91896854 0.92135399 0.92219795 0.91799698 0.90577356]\n",
            "Score moyen de validation croisée: 0.917 (+/- 0.012)\n"
          ]
        }
      ],
      "source": [
        "# Créer le pipeline pour le texte\n",
        "text_transformer = Pipeline([\n",
        "    ('tfidf', TfidfVectorizer(max_features=1000, ngram_range=(1, 2)))\n",
        "])\n",
        "\n",
        "# Créer le préprocesseur avec imputation pour les features numériques\n",
        "preprocessor = ColumnTransformer(\n",
        "    transformers=[\n",
        "        ('text', text_transformer, 'text_description'),\n",
        "        # Apply imputation to numerical features\n",
        "        ('num', SimpleImputer(strategy='median'), numerical_features),\n",
        "        # Pass through the already encoded categorical features\n",
        "        ('cat', 'passthrough', categorical_features)\n",
        "    ],\n",
        "    # Set remainder='passthrough' to include other columns if needed, although not strictly necessary here\n",
        "    # since all columns in X are explicitly handled.\n",
        "    remainder='passthrough'\n",
        ")\n",
        "\n",
        "# Créer le pipeline complet\n",
        "pipeline = Pipeline([\n",
        "    ('preprocessor', preprocessor),\n",
        "    (\"smote\", SMOTE(random_state=42)),\n",
        "    ('classifier', RandomForestClassifier(n_estimators=100, class_weight='balanced', random_state=42))\n",
        "])\n",
        "\n",
        "# Validation croisée\n",
        "# Note: The code below this point should remain the same as in your original notebook\n",
        "# as it uses the correctly defined pipeline and preprocessor.\n",
        "cv_scores = cross_val_score(pipeline, X, y, cv=5, scoring='f1')\n",
        "print(f\"Scores de validation croisée: {cv_scores}\")\n",
        "print(f\"Score moyen de validation croisée: {cv_scores.mean():.3f} (+/- {cv_scores.std() * 2:.3f})\")\n",
        "\n",
        "# Continue with the rest of your code for fitting the model, prediction, and evaluation."
      ]
    },
    {
      "cell_type": "code",
      "execution_count": 105,
      "metadata": {
        "colab": {
          "base_uri": "https://localhost:8080/",
          "height": 366
        },
        "id": "V2Fi6n5oZGoc",
        "outputId": "9e9dd9df-6983-4f21-eb01-9d612ec864b8"
      },
      "outputs": [
        {
          "data": {
            "text/plain": [
              "text_description         0\n",
              "MARQUE                   0\n",
              "TYPE                     0\n",
              "GENRE                    0\n",
              "STATUT                   0\n",
              "DESI_GENR                0\n",
              "month                    0\n",
              "dayofweek                0\n",
              "vehicle_age           3965\n",
              "Kilometrage_Total    17345\n",
              "dtype: int64"
            ]
          },
          "execution_count": 105,
          "metadata": {},
          "output_type": "execute_result"
        }
      ],
      "source": [
        "X.isnull().sum()"
      ]
    },
    {
      "cell_type": "code",
      "execution_count": 106,
      "metadata": {
        "colab": {
          "base_uri": "https://localhost:8080/",
          "height": 306
        },
        "id": "DvfyjiyBnqnq",
        "outputId": "7a3ad113-2091-41ad-c7a1-b3a437df18fa"
      },
      "outputs": [
        {
          "data": {
            "text/html": [
              "<style>#sk-container-id-3 {\n",
              "  /* Definition of color scheme common for light and dark mode */\n",
              "  --sklearn-color-text: #000;\n",
              "  --sklearn-color-text-muted: #666;\n",
              "  --sklearn-color-line: gray;\n",
              "  /* Definition of color scheme for unfitted estimators */\n",
              "  --sklearn-color-unfitted-level-0: #fff5e6;\n",
              "  --sklearn-color-unfitted-level-1: #f6e4d2;\n",
              "  --sklearn-color-unfitted-level-2: #ffe0b3;\n",
              "  --sklearn-color-unfitted-level-3: chocolate;\n",
              "  /* Definition of color scheme for fitted estimators */\n",
              "  --sklearn-color-fitted-level-0: #f0f8ff;\n",
              "  --sklearn-color-fitted-level-1: #d4ebff;\n",
              "  --sklearn-color-fitted-level-2: #b3dbfd;\n",
              "  --sklearn-color-fitted-level-3: cornflowerblue;\n",
              "\n",
              "  /* Specific color for light theme */\n",
              "  --sklearn-color-text-on-default-background: var(--sg-text-color, var(--theme-code-foreground, var(--jp-content-font-color1, black)));\n",
              "  --sklearn-color-background: var(--sg-background-color, var(--theme-background, var(--jp-layout-color0, white)));\n",
              "  --sklearn-color-border-box: var(--sg-text-color, var(--theme-code-foreground, var(--jp-content-font-color1, black)));\n",
              "  --sklearn-color-icon: #696969;\n",
              "\n",
              "  @media (prefers-color-scheme: dark) {\n",
              "    /* Redefinition of color scheme for dark theme */\n",
              "    --sklearn-color-text-on-default-background: var(--sg-text-color, var(--theme-code-foreground, var(--jp-content-font-color1, white)));\n",
              "    --sklearn-color-background: var(--sg-background-color, var(--theme-background, var(--jp-layout-color0, #111)));\n",
              "    --sklearn-color-border-box: var(--sg-text-color, var(--theme-code-foreground, var(--jp-content-font-color1, white)));\n",
              "    --sklearn-color-icon: #878787;\n",
              "  }\n",
              "}\n",
              "\n",
              "#sk-container-id-3 {\n",
              "  color: var(--sklearn-color-text);\n",
              "}\n",
              "\n",
              "#sk-container-id-3 pre {\n",
              "  padding: 0;\n",
              "}\n",
              "\n",
              "#sk-container-id-3 input.sk-hidden--visually {\n",
              "  border: 0;\n",
              "  clip: rect(1px 1px 1px 1px);\n",
              "  clip: rect(1px, 1px, 1px, 1px);\n",
              "  height: 1px;\n",
              "  margin: -1px;\n",
              "  overflow: hidden;\n",
              "  padding: 0;\n",
              "  position: absolute;\n",
              "  width: 1px;\n",
              "}\n",
              "\n",
              "#sk-container-id-3 div.sk-dashed-wrapped {\n",
              "  border: 1px dashed var(--sklearn-color-line);\n",
              "  margin: 0 0.4em 0.5em 0.4em;\n",
              "  box-sizing: border-box;\n",
              "  padding-bottom: 0.4em;\n",
              "  background-color: var(--sklearn-color-background);\n",
              "}\n",
              "\n",
              "#sk-container-id-3 div.sk-container {\n",
              "  /* jupyter's `normalize.less` sets `[hidden] { display: none; }`\n",
              "     but bootstrap.min.css set `[hidden] { display: none !important; }`\n",
              "     so we also need the `!important` here to be able to override the\n",
              "     default hidden behavior on the sphinx rendered scikit-learn.org.\n",
              "     See: https://github.com/scikit-learn/scikit-learn/issues/21755 */\n",
              "  display: inline-block !important;\n",
              "  position: relative;\n",
              "}\n",
              "\n",
              "#sk-container-id-3 div.sk-text-repr-fallback {\n",
              "  display: none;\n",
              "}\n",
              "\n",
              "div.sk-parallel-item,\n",
              "div.sk-serial,\n",
              "div.sk-item {\n",
              "  /* draw centered vertical line to link estimators */\n",
              "  background-image: linear-gradient(var(--sklearn-color-text-on-default-background), var(--sklearn-color-text-on-default-background));\n",
              "  background-size: 2px 100%;\n",
              "  background-repeat: no-repeat;\n",
              "  background-position: center center;\n",
              "}\n",
              "\n",
              "/* Parallel-specific style estimator block */\n",
              "\n",
              "#sk-container-id-3 div.sk-parallel-item::after {\n",
              "  content: \"\";\n",
              "  width: 100%;\n",
              "  border-bottom: 2px solid var(--sklearn-color-text-on-default-background);\n",
              "  flex-grow: 1;\n",
              "}\n",
              "\n",
              "#sk-container-id-3 div.sk-parallel {\n",
              "  display: flex;\n",
              "  align-items: stretch;\n",
              "  justify-content: center;\n",
              "  background-color: var(--sklearn-color-background);\n",
              "  position: relative;\n",
              "}\n",
              "\n",
              "#sk-container-id-3 div.sk-parallel-item {\n",
              "  display: flex;\n",
              "  flex-direction: column;\n",
              "}\n",
              "\n",
              "#sk-container-id-3 div.sk-parallel-item:first-child::after {\n",
              "  align-self: flex-end;\n",
              "  width: 50%;\n",
              "}\n",
              "\n",
              "#sk-container-id-3 div.sk-parallel-item:last-child::after {\n",
              "  align-self: flex-start;\n",
              "  width: 50%;\n",
              "}\n",
              "\n",
              "#sk-container-id-3 div.sk-parallel-item:only-child::after {\n",
              "  width: 0;\n",
              "}\n",
              "\n",
              "/* Serial-specific style estimator block */\n",
              "\n",
              "#sk-container-id-3 div.sk-serial {\n",
              "  display: flex;\n",
              "  flex-direction: column;\n",
              "  align-items: center;\n",
              "  background-color: var(--sklearn-color-background);\n",
              "  padding-right: 1em;\n",
              "  padding-left: 1em;\n",
              "}\n",
              "\n",
              "\n",
              "/* Toggleable style: style used for estimator/Pipeline/ColumnTransformer box that is\n",
              "clickable and can be expanded/collapsed.\n",
              "- Pipeline and ColumnTransformer use this feature and define the default style\n",
              "- Estimators will overwrite some part of the style using the `sk-estimator` class\n",
              "*/\n",
              "\n",
              "/* Pipeline and ColumnTransformer style (default) */\n",
              "\n",
              "#sk-container-id-3 div.sk-toggleable {\n",
              "  /* Default theme specific background. It is overwritten whether we have a\n",
              "  specific estimator or a Pipeline/ColumnTransformer */\n",
              "  background-color: var(--sklearn-color-background);\n",
              "}\n",
              "\n",
              "/* Toggleable label */\n",
              "#sk-container-id-3 label.sk-toggleable__label {\n",
              "  cursor: pointer;\n",
              "  display: flex;\n",
              "  width: 100%;\n",
              "  margin-bottom: 0;\n",
              "  padding: 0.5em;\n",
              "  box-sizing: border-box;\n",
              "  text-align: center;\n",
              "  align-items: start;\n",
              "  justify-content: space-between;\n",
              "  gap: 0.5em;\n",
              "}\n",
              "\n",
              "#sk-container-id-3 label.sk-toggleable__label .caption {\n",
              "  font-size: 0.6rem;\n",
              "  font-weight: lighter;\n",
              "  color: var(--sklearn-color-text-muted);\n",
              "}\n",
              "\n",
              "#sk-container-id-3 label.sk-toggleable__label-arrow:before {\n",
              "  /* Arrow on the left of the label */\n",
              "  content: \"▸\";\n",
              "  float: left;\n",
              "  margin-right: 0.25em;\n",
              "  color: var(--sklearn-color-icon);\n",
              "}\n",
              "\n",
              "#sk-container-id-3 label.sk-toggleable__label-arrow:hover:before {\n",
              "  color: var(--sklearn-color-text);\n",
              "}\n",
              "\n",
              "/* Toggleable content - dropdown */\n",
              "\n",
              "#sk-container-id-3 div.sk-toggleable__content {\n",
              "  max-height: 0;\n",
              "  max-width: 0;\n",
              "  overflow: hidden;\n",
              "  text-align: left;\n",
              "  /* unfitted */\n",
              "  background-color: var(--sklearn-color-unfitted-level-0);\n",
              "}\n",
              "\n",
              "#sk-container-id-3 div.sk-toggleable__content.fitted {\n",
              "  /* fitted */\n",
              "  background-color: var(--sklearn-color-fitted-level-0);\n",
              "}\n",
              "\n",
              "#sk-container-id-3 div.sk-toggleable__content pre {\n",
              "  margin: 0.2em;\n",
              "  border-radius: 0.25em;\n",
              "  color: var(--sklearn-color-text);\n",
              "  /* unfitted */\n",
              "  background-color: var(--sklearn-color-unfitted-level-0);\n",
              "}\n",
              "\n",
              "#sk-container-id-3 div.sk-toggleable__content.fitted pre {\n",
              "  /* unfitted */\n",
              "  background-color: var(--sklearn-color-fitted-level-0);\n",
              "}\n",
              "\n",
              "#sk-container-id-3 input.sk-toggleable__control:checked~div.sk-toggleable__content {\n",
              "  /* Expand drop-down */\n",
              "  max-height: 200px;\n",
              "  max-width: 100%;\n",
              "  overflow: auto;\n",
              "}\n",
              "\n",
              "#sk-container-id-3 input.sk-toggleable__control:checked~label.sk-toggleable__label-arrow:before {\n",
              "  content: \"▾\";\n",
              "}\n",
              "\n",
              "/* Pipeline/ColumnTransformer-specific style */\n",
              "\n",
              "#sk-container-id-3 div.sk-label input.sk-toggleable__control:checked~label.sk-toggleable__label {\n",
              "  color: var(--sklearn-color-text);\n",
              "  background-color: var(--sklearn-color-unfitted-level-2);\n",
              "}\n",
              "\n",
              "#sk-container-id-3 div.sk-label.fitted input.sk-toggleable__control:checked~label.sk-toggleable__label {\n",
              "  background-color: var(--sklearn-color-fitted-level-2);\n",
              "}\n",
              "\n",
              "/* Estimator-specific style */\n",
              "\n",
              "/* Colorize estimator box */\n",
              "#sk-container-id-3 div.sk-estimator input.sk-toggleable__control:checked~label.sk-toggleable__label {\n",
              "  /* unfitted */\n",
              "  background-color: var(--sklearn-color-unfitted-level-2);\n",
              "}\n",
              "\n",
              "#sk-container-id-3 div.sk-estimator.fitted input.sk-toggleable__control:checked~label.sk-toggleable__label {\n",
              "  /* fitted */\n",
              "  background-color: var(--sklearn-color-fitted-level-2);\n",
              "}\n",
              "\n",
              "#sk-container-id-3 div.sk-label label.sk-toggleable__label,\n",
              "#sk-container-id-3 div.sk-label label {\n",
              "  /* The background is the default theme color */\n",
              "  color: var(--sklearn-color-text-on-default-background);\n",
              "}\n",
              "\n",
              "/* On hover, darken the color of the background */\n",
              "#sk-container-id-3 div.sk-label:hover label.sk-toggleable__label {\n",
              "  color: var(--sklearn-color-text);\n",
              "  background-color: var(--sklearn-color-unfitted-level-2);\n",
              "}\n",
              "\n",
              "/* Label box, darken color on hover, fitted */\n",
              "#sk-container-id-3 div.sk-label.fitted:hover label.sk-toggleable__label.fitted {\n",
              "  color: var(--sklearn-color-text);\n",
              "  background-color: var(--sklearn-color-fitted-level-2);\n",
              "}\n",
              "\n",
              "/* Estimator label */\n",
              "\n",
              "#sk-container-id-3 div.sk-label label {\n",
              "  font-family: monospace;\n",
              "  font-weight: bold;\n",
              "  display: inline-block;\n",
              "  line-height: 1.2em;\n",
              "}\n",
              "\n",
              "#sk-container-id-3 div.sk-label-container {\n",
              "  text-align: center;\n",
              "}\n",
              "\n",
              "/* Estimator-specific */\n",
              "#sk-container-id-3 div.sk-estimator {\n",
              "  font-family: monospace;\n",
              "  border: 1px dotted var(--sklearn-color-border-box);\n",
              "  border-radius: 0.25em;\n",
              "  box-sizing: border-box;\n",
              "  margin-bottom: 0.5em;\n",
              "  /* unfitted */\n",
              "  background-color: var(--sklearn-color-unfitted-level-0);\n",
              "}\n",
              "\n",
              "#sk-container-id-3 div.sk-estimator.fitted {\n",
              "  /* fitted */\n",
              "  background-color: var(--sklearn-color-fitted-level-0);\n",
              "}\n",
              "\n",
              "/* on hover */\n",
              "#sk-container-id-3 div.sk-estimator:hover {\n",
              "  /* unfitted */\n",
              "  background-color: var(--sklearn-color-unfitted-level-2);\n",
              "}\n",
              "\n",
              "#sk-container-id-3 div.sk-estimator.fitted:hover {\n",
              "  /* fitted */\n",
              "  background-color: var(--sklearn-color-fitted-level-2);\n",
              "}\n",
              "\n",
              "/* Specification for estimator info (e.g. \"i\" and \"?\") */\n",
              "\n",
              "/* Common style for \"i\" and \"?\" */\n",
              "\n",
              ".sk-estimator-doc-link,\n",
              "a:link.sk-estimator-doc-link,\n",
              "a:visited.sk-estimator-doc-link {\n",
              "  float: right;\n",
              "  font-size: smaller;\n",
              "  line-height: 1em;\n",
              "  font-family: monospace;\n",
              "  background-color: var(--sklearn-color-background);\n",
              "  border-radius: 1em;\n",
              "  height: 1em;\n",
              "  width: 1em;\n",
              "  text-decoration: none !important;\n",
              "  margin-left: 0.5em;\n",
              "  text-align: center;\n",
              "  /* unfitted */\n",
              "  border: var(--sklearn-color-unfitted-level-1) 1pt solid;\n",
              "  color: var(--sklearn-color-unfitted-level-1);\n",
              "}\n",
              "\n",
              ".sk-estimator-doc-link.fitted,\n",
              "a:link.sk-estimator-doc-link.fitted,\n",
              "a:visited.sk-estimator-doc-link.fitted {\n",
              "  /* fitted */\n",
              "  border: var(--sklearn-color-fitted-level-1) 1pt solid;\n",
              "  color: var(--sklearn-color-fitted-level-1);\n",
              "}\n",
              "\n",
              "/* On hover */\n",
              "div.sk-estimator:hover .sk-estimator-doc-link:hover,\n",
              ".sk-estimator-doc-link:hover,\n",
              "div.sk-label-container:hover .sk-estimator-doc-link:hover,\n",
              ".sk-estimator-doc-link:hover {\n",
              "  /* unfitted */\n",
              "  background-color: var(--sklearn-color-unfitted-level-3);\n",
              "  color: var(--sklearn-color-background);\n",
              "  text-decoration: none;\n",
              "}\n",
              "\n",
              "div.sk-estimator.fitted:hover .sk-estimator-doc-link.fitted:hover,\n",
              ".sk-estimator-doc-link.fitted:hover,\n",
              "div.sk-label-container:hover .sk-estimator-doc-link.fitted:hover,\n",
              ".sk-estimator-doc-link.fitted:hover {\n",
              "  /* fitted */\n",
              "  background-color: var(--sklearn-color-fitted-level-3);\n",
              "  color: var(--sklearn-color-background);\n",
              "  text-decoration: none;\n",
              "}\n",
              "\n",
              "/* Span, style for the box shown on hovering the info icon */\n",
              ".sk-estimator-doc-link span {\n",
              "  display: none;\n",
              "  z-index: 9999;\n",
              "  position: relative;\n",
              "  font-weight: normal;\n",
              "  right: .2ex;\n",
              "  padding: .5ex;\n",
              "  margin: .5ex;\n",
              "  width: min-content;\n",
              "  min-width: 20ex;\n",
              "  max-width: 50ex;\n",
              "  color: var(--sklearn-color-text);\n",
              "  box-shadow: 2pt 2pt 4pt #999;\n",
              "  /* unfitted */\n",
              "  background: var(--sklearn-color-unfitted-level-0);\n",
              "  border: .5pt solid var(--sklearn-color-unfitted-level-3);\n",
              "}\n",
              "\n",
              ".sk-estimator-doc-link.fitted span {\n",
              "  /* fitted */\n",
              "  background: var(--sklearn-color-fitted-level-0);\n",
              "  border: var(--sklearn-color-fitted-level-3);\n",
              "}\n",
              "\n",
              ".sk-estimator-doc-link:hover span {\n",
              "  display: block;\n",
              "}\n",
              "\n",
              "/* \"?\"-specific style due to the `<a>` HTML tag */\n",
              "\n",
              "#sk-container-id-3 a.estimator_doc_link {\n",
              "  float: right;\n",
              "  font-size: 1rem;\n",
              "  line-height: 1em;\n",
              "  font-family: monospace;\n",
              "  background-color: var(--sklearn-color-background);\n",
              "  border-radius: 1rem;\n",
              "  height: 1rem;\n",
              "  width: 1rem;\n",
              "  text-decoration: none;\n",
              "  /* unfitted */\n",
              "  color: var(--sklearn-color-unfitted-level-1);\n",
              "  border: var(--sklearn-color-unfitted-level-1) 1pt solid;\n",
              "}\n",
              "\n",
              "#sk-container-id-3 a.estimator_doc_link.fitted {\n",
              "  /* fitted */\n",
              "  border: var(--sklearn-color-fitted-level-1) 1pt solid;\n",
              "  color: var(--sklearn-color-fitted-level-1);\n",
              "}\n",
              "\n",
              "/* On hover */\n",
              "#sk-container-id-3 a.estimator_doc_link:hover {\n",
              "  /* unfitted */\n",
              "  background-color: var(--sklearn-color-unfitted-level-3);\n",
              "  color: var(--sklearn-color-background);\n",
              "  text-decoration: none;\n",
              "}\n",
              "\n",
              "#sk-container-id-3 a.estimator_doc_link.fitted:hover {\n",
              "  /* fitted */\n",
              "  background-color: var(--sklearn-color-fitted-level-3);\n",
              "}\n",
              "</style><div id=\"sk-container-id-3\" class=\"sk-top-container\"><div class=\"sk-text-repr-fallback\"><pre>Pipeline(steps=[(&#x27;preprocessor&#x27;,\n",
              "                 ColumnTransformer(remainder=&#x27;passthrough&#x27;,\n",
              "                                   transformers=[(&#x27;text&#x27;,\n",
              "                                                  Pipeline(steps=[(&#x27;tfidf&#x27;,\n",
              "                                                                   TfidfVectorizer(max_features=1000,\n",
              "                                                                                   ngram_range=(1,\n",
              "                                                                                                2)))]),\n",
              "                                                  &#x27;text_description&#x27;),\n",
              "                                                 (&#x27;num&#x27;,\n",
              "                                                  SimpleImputer(strategy=&#x27;median&#x27;),\n",
              "                                                  [&#x27;month&#x27;, &#x27;dayofweek&#x27;,\n",
              "                                                   &#x27;vehicle_age&#x27;,\n",
              "                                                   &#x27;Kilometrage_Total&#x27;]),\n",
              "                                                 (&#x27;cat&#x27;, &#x27;passthrough&#x27;,\n",
              "                                                  [&#x27;MARQUE&#x27;, &#x27;TYPE&#x27;, &#x27;GENRE&#x27;,\n",
              "                                                   &#x27;STATUT&#x27;, &#x27;DESI_GENR&#x27;])])),\n",
              "                (&#x27;smote&#x27;, SMOTE(random_state=42)),\n",
              "                (&#x27;classifier&#x27;,\n",
              "                 RandomForestClassifier(class_weight=&#x27;balanced&#x27;,\n",
              "                                        random_state=42))])</pre><b>In a Jupyter environment, please rerun this cell to show the HTML representation or trust the notebook. <br />On GitHub, the HTML representation is unable to render, please try loading this page with nbviewer.org.</b></div><div class=\"sk-container\" hidden><div class=\"sk-item sk-dashed-wrapped\"><div class=\"sk-label-container\"><div class=\"sk-label fitted sk-toggleable\"><input class=\"sk-toggleable__control sk-hidden--visually\" id=\"sk-estimator-id-25\" type=\"checkbox\" ><label for=\"sk-estimator-id-25\" class=\"sk-toggleable__label fitted sk-toggleable__label-arrow\"><div><div>Pipeline</div></div><div><span class=\"sk-estimator-doc-link fitted\">i<span>Fitted</span></span></div></label><div class=\"sk-toggleable__content fitted\"><pre>Pipeline(steps=[(&#x27;preprocessor&#x27;,\n",
              "                 ColumnTransformer(remainder=&#x27;passthrough&#x27;,\n",
              "                                   transformers=[(&#x27;text&#x27;,\n",
              "                                                  Pipeline(steps=[(&#x27;tfidf&#x27;,\n",
              "                                                                   TfidfVectorizer(max_features=1000,\n",
              "                                                                                   ngram_range=(1,\n",
              "                                                                                                2)))]),\n",
              "                                                  &#x27;text_description&#x27;),\n",
              "                                                 (&#x27;num&#x27;,\n",
              "                                                  SimpleImputer(strategy=&#x27;median&#x27;),\n",
              "                                                  [&#x27;month&#x27;, &#x27;dayofweek&#x27;,\n",
              "                                                   &#x27;vehicle_age&#x27;,\n",
              "                                                   &#x27;Kilometrage_Total&#x27;]),\n",
              "                                                 (&#x27;cat&#x27;, &#x27;passthrough&#x27;,\n",
              "                                                  [&#x27;MARQUE&#x27;, &#x27;TYPE&#x27;, &#x27;GENRE&#x27;,\n",
              "                                                   &#x27;STATUT&#x27;, &#x27;DESI_GENR&#x27;])])),\n",
              "                (&#x27;smote&#x27;, SMOTE(random_state=42)),\n",
              "                (&#x27;classifier&#x27;,\n",
              "                 RandomForestClassifier(class_weight=&#x27;balanced&#x27;,\n",
              "                                        random_state=42))])</pre></div> </div></div><div class=\"sk-serial\"><div class=\"sk-item sk-dashed-wrapped\"><div class=\"sk-label-container\"><div class=\"sk-label fitted sk-toggleable\"><input class=\"sk-toggleable__control sk-hidden--visually\" id=\"sk-estimator-id-26\" type=\"checkbox\" ><label for=\"sk-estimator-id-26\" class=\"sk-toggleable__label fitted sk-toggleable__label-arrow\"><div><div>preprocessor: ColumnTransformer</div></div><div><a class=\"sk-estimator-doc-link fitted\" rel=\"noreferrer\" target=\"_blank\" href=\"https://scikit-learn.org/1.6/modules/generated/sklearn.compose.ColumnTransformer.html\">?<span>Documentation for preprocessor: ColumnTransformer</span></a></div></label><div class=\"sk-toggleable__content fitted\"><pre>ColumnTransformer(remainder=&#x27;passthrough&#x27;,\n",
              "                  transformers=[(&#x27;text&#x27;,\n",
              "                                 Pipeline(steps=[(&#x27;tfidf&#x27;,\n",
              "                                                  TfidfVectorizer(max_features=1000,\n",
              "                                                                  ngram_range=(1,\n",
              "                                                                               2)))]),\n",
              "                                 &#x27;text_description&#x27;),\n",
              "                                (&#x27;num&#x27;, SimpleImputer(strategy=&#x27;median&#x27;),\n",
              "                                 [&#x27;month&#x27;, &#x27;dayofweek&#x27;, &#x27;vehicle_age&#x27;,\n",
              "                                  &#x27;Kilometrage_Total&#x27;]),\n",
              "                                (&#x27;cat&#x27;, &#x27;passthrough&#x27;,\n",
              "                                 [&#x27;MARQUE&#x27;, &#x27;TYPE&#x27;, &#x27;GENRE&#x27;, &#x27;STATUT&#x27;,\n",
              "                                  &#x27;DESI_GENR&#x27;])])</pre></div> </div></div><div class=\"sk-parallel\"><div class=\"sk-parallel-item\"><div class=\"sk-item\"><div class=\"sk-label-container\"><div class=\"sk-label fitted sk-toggleable\"><input class=\"sk-toggleable__control sk-hidden--visually\" id=\"sk-estimator-id-27\" type=\"checkbox\" ><label for=\"sk-estimator-id-27\" class=\"sk-toggleable__label fitted sk-toggleable__label-arrow\"><div><div>text</div></div></label><div class=\"sk-toggleable__content fitted\"><pre>text_description</pre></div> </div></div><div class=\"sk-serial\"><div class=\"sk-item\"><div class=\"sk-serial\"><div class=\"sk-item\"><div class=\"sk-estimator fitted sk-toggleable\"><input class=\"sk-toggleable__control sk-hidden--visually\" id=\"sk-estimator-id-28\" type=\"checkbox\" ><label for=\"sk-estimator-id-28\" class=\"sk-toggleable__label fitted sk-toggleable__label-arrow\"><div><div>TfidfVectorizer</div></div><div><a class=\"sk-estimator-doc-link fitted\" rel=\"noreferrer\" target=\"_blank\" href=\"https://scikit-learn.org/1.6/modules/generated/sklearn.feature_extraction.text.TfidfVectorizer.html\">?<span>Documentation for TfidfVectorizer</span></a></div></label><div class=\"sk-toggleable__content fitted\"><pre>TfidfVectorizer(max_features=1000, ngram_range=(1, 2))</pre></div> </div></div></div></div></div></div></div><div class=\"sk-parallel-item\"><div class=\"sk-item\"><div class=\"sk-label-container\"><div class=\"sk-label fitted sk-toggleable\"><input class=\"sk-toggleable__control sk-hidden--visually\" id=\"sk-estimator-id-29\" type=\"checkbox\" ><label for=\"sk-estimator-id-29\" class=\"sk-toggleable__label fitted sk-toggleable__label-arrow\"><div><div>num</div></div></label><div class=\"sk-toggleable__content fitted\"><pre>[&#x27;month&#x27;, &#x27;dayofweek&#x27;, &#x27;vehicle_age&#x27;, &#x27;Kilometrage_Total&#x27;]</pre></div> </div></div><div class=\"sk-serial\"><div class=\"sk-item\"><div class=\"sk-estimator fitted sk-toggleable\"><input class=\"sk-toggleable__control sk-hidden--visually\" id=\"sk-estimator-id-30\" type=\"checkbox\" ><label for=\"sk-estimator-id-30\" class=\"sk-toggleable__label fitted sk-toggleable__label-arrow\"><div><div>SimpleImputer</div></div><div><a class=\"sk-estimator-doc-link fitted\" rel=\"noreferrer\" target=\"_blank\" href=\"https://scikit-learn.org/1.6/modules/generated/sklearn.impute.SimpleImputer.html\">?<span>Documentation for SimpleImputer</span></a></div></label><div class=\"sk-toggleable__content fitted\"><pre>SimpleImputer(strategy=&#x27;median&#x27;)</pre></div> </div></div></div></div></div><div class=\"sk-parallel-item\"><div class=\"sk-item\"><div class=\"sk-label-container\"><div class=\"sk-label fitted sk-toggleable\"><input class=\"sk-toggleable__control sk-hidden--visually\" id=\"sk-estimator-id-31\" type=\"checkbox\" ><label for=\"sk-estimator-id-31\" class=\"sk-toggleable__label fitted sk-toggleable__label-arrow\"><div><div>cat</div></div></label><div class=\"sk-toggleable__content fitted\"><pre>[&#x27;MARQUE&#x27;, &#x27;TYPE&#x27;, &#x27;GENRE&#x27;, &#x27;STATUT&#x27;, &#x27;DESI_GENR&#x27;]</pre></div> </div></div><div class=\"sk-serial\"><div class=\"sk-item\"><div class=\"sk-estimator fitted sk-toggleable\"><input class=\"sk-toggleable__control sk-hidden--visually\" id=\"sk-estimator-id-32\" type=\"checkbox\" ><label for=\"sk-estimator-id-32\" class=\"sk-toggleable__label fitted sk-toggleable__label-arrow\"><div><div>passthrough</div></div></label><div class=\"sk-toggleable__content fitted\"><pre>passthrough</pre></div> </div></div></div></div></div><div class=\"sk-parallel-item\"><div class=\"sk-item\"><div class=\"sk-label-container\"><div class=\"sk-label fitted sk-toggleable\"><input class=\"sk-toggleable__control sk-hidden--visually\" id=\"sk-estimator-id-33\" type=\"checkbox\" ><label for=\"sk-estimator-id-33\" class=\"sk-toggleable__label fitted sk-toggleable__label-arrow\"><div><div>remainder</div></div></label><div class=\"sk-toggleable__content fitted\"><pre>[]</pre></div> </div></div><div class=\"sk-serial\"><div class=\"sk-item\"><div class=\"sk-estimator fitted sk-toggleable\"><input class=\"sk-toggleable__control sk-hidden--visually\" id=\"sk-estimator-id-34\" type=\"checkbox\" ><label for=\"sk-estimator-id-34\" class=\"sk-toggleable__label fitted sk-toggleable__label-arrow\"><div><div>passthrough</div></div></label><div class=\"sk-toggleable__content fitted\"><pre>passthrough</pre></div> </div></div></div></div></div></div></div><div class=\"sk-item\"><div class=\"sk-estimator fitted sk-toggleable\"><input class=\"sk-toggleable__control sk-hidden--visually\" id=\"sk-estimator-id-35\" type=\"checkbox\" ><label for=\"sk-estimator-id-35\" class=\"sk-toggleable__label fitted sk-toggleable__label-arrow\"><div><div>SMOTE</div></div></label><div class=\"sk-toggleable__content fitted\"><pre>SMOTE(random_state=42)</pre></div> </div></div><div class=\"sk-item\"><div class=\"sk-estimator fitted sk-toggleable\"><input class=\"sk-toggleable__control sk-hidden--visually\" id=\"sk-estimator-id-36\" type=\"checkbox\" ><label for=\"sk-estimator-id-36\" class=\"sk-toggleable__label fitted sk-toggleable__label-arrow\"><div><div>RandomForestClassifier</div></div><div><a class=\"sk-estimator-doc-link fitted\" rel=\"noreferrer\" target=\"_blank\" href=\"https://scikit-learn.org/1.6/modules/generated/sklearn.ensemble.RandomForestClassifier.html\">?<span>Documentation for RandomForestClassifier</span></a></div></label><div class=\"sk-toggleable__content fitted\"><pre>RandomForestClassifier(class_weight=&#x27;balanced&#x27;, random_state=42)</pre></div> </div></div></div></div></div></div>"
            ],
            "text/plain": [
              "Pipeline(steps=[('preprocessor',\n",
              "                 ColumnTransformer(remainder='passthrough',\n",
              "                                   transformers=[('text',\n",
              "                                                  Pipeline(steps=[('tfidf',\n",
              "                                                                   TfidfVectorizer(max_features=1000,\n",
              "                                                                                   ngram_range=(1,\n",
              "                                                                                                2)))]),\n",
              "                                                  'text_description'),\n",
              "                                                 ('num',\n",
              "                                                  SimpleImputer(strategy='median'),\n",
              "                                                  ['month', 'dayofweek',\n",
              "                                                   'vehicle_age',\n",
              "                                                   'Kilometrage_Total']),\n",
              "                                                 ('cat', 'passthrough',\n",
              "                                                  ['MARQUE', 'TYPE', 'GENRE',\n",
              "                                                   'STATUT', 'DESI_GENR'])])),\n",
              "                ('smote', SMOTE(random_state=42)),\n",
              "                ('classifier',\n",
              "                 RandomForestClassifier(class_weight='balanced',\n",
              "                                        random_state=42))])"
            ]
          },
          "execution_count": 106,
          "metadata": {},
          "output_type": "execute_result"
        }
      ],
      "source": [
        "\n",
        "pipeline.fit(X_train, y_train)\n"
      ]
    },
    {
      "cell_type": "code",
      "execution_count": 107,
      "metadata": {
        "id": "-TsWDMBYn4B1"
      },
      "outputs": [],
      "source": [
        "# Faire des prédictions\n",
        "y_pred = pipeline.predict(X_test)"
      ]
    },
    {
      "cell_type": "code",
      "execution_count": 108,
      "metadata": {
        "colab": {
          "base_uri": "https://localhost:8080/"
        },
        "id": "9OHz1x8sn61g",
        "outputId": "212501c7-4ffd-4671-ddfc-b507c1ffd71f"
      },
      "outputs": [
        {
          "name": "stdout",
          "output_type": "stream",
          "text": [
            "\n",
            "Rapport de classification:\n",
            "              precision    recall  f1-score   support\n",
            "\n",
            "   non-panne       0.71      0.74      0.72      1542\n",
            "       panne       0.93      0.92      0.93      5932\n",
            "\n",
            "    accuracy                           0.88      7474\n",
            "   macro avg       0.82      0.83      0.82      7474\n",
            "weighted avg       0.89      0.88      0.88      7474\n",
            "\n"
          ]
        }
      ],
      "source": [
        "# Évaluer le modèle\n",
        "print(\"\\nRapport de classification:\")\n",
        "print(classification_report(y_test, y_pred, target_names=['non-panne','panne']))"
      ]
    },
    {
      "cell_type": "code",
      "execution_count": 109,
      "metadata": {
        "id": "lr54PPn6n-9m"
      },
      "outputs": [],
      "source": [
        "# Générer la matrice de confusion\n",
        "cm = confusion_matrix(y_test, y_pred)\n",
        "plt.figure(figsize=(8, 6))\n",
        "sns.heatmap(cm, annot=True, fmt='d', cmap='Blues')\n",
        "plt.title('Matrice de Confusion')\n",
        "plt.ylabel('Vraie classe')\n",
        "plt.xlabel('Classe prédite')\n",
        "plt.savefig('confusion_matrix.png')\n",
        "plt.close()\n"
      ]
    },
    {
      "cell_type": "code",
      "execution_count": 110,
      "metadata": {
        "id": "EJ3omfpClIYt"
      },
      "outputs": [],
      "source": [
        "y_pred_proba = pipeline.predict_proba(X_test)[:, 1]"
      ]
    },
    {
      "cell_type": "code",
      "execution_count": 111,
      "metadata": {
        "colab": {
          "base_uri": "https://localhost:8080/"
        },
        "id": "xprUZIMKvlBJ",
        "outputId": "1803c8d3-074a-4ec1-e9e5-842af01fe87b"
      },
      "outputs": [
        {
          "name": "stdout",
          "output_type": "stream",
          "text": [
            "\n",
            "Seuil optimal pour la classification : 0.767\n"
          ]
        }
      ],
      "source": [
        "# Générer la courbe ROC\n",
        "fpr, tpr, thresholds = roc_curve(y_test, y_pred_proba)\n",
        "roc_auc = auc(fpr, tpr)\n",
        "\n",
        "plt.figure(figsize=(8, 6))\n",
        "plt.plot(fpr, tpr, color='darkorange', lw=2, label=f'Courbe ROC (AUC = {roc_auc:.2f})')\n",
        "plt.plot([0, 1], [0, 1], color='navy', lw=2, linestyle='--', label='Aléatoire')\n",
        "plt.xlim([0.0, 1.0])\n",
        "plt.ylim([0.0, 1.05])\n",
        "plt.xlabel('Taux de faux positifs')\n",
        "plt.ylabel('Taux de vrais positifs')\n",
        "plt.title('Courbe ROC')\n",
        "plt.legend(loc=\"lower right\")\n",
        "plt.grid(True)\n",
        "plt.savefig('roc_curve.png')\n",
        "plt.close()\n",
        "\n",
        "# Trouver le meilleur seuil\n",
        "optimal_idx = np.argmax(tpr - fpr)\n",
        "optimal_threshold = thresholds[optimal_idx]\n",
        "print(f\"\\nSeuil optimal pour la classification : {optimal_threshold:.3f}\")"
      ]
    },
    {
      "cell_type": "code",
      "execution_count": 112,
      "metadata": {
        "id": "KAEtuYbXlXbh"
      },
      "outputs": [],
      "source": [
        "# Générer la courbe d'apprentissage\n",
        "train_sizes, train_scores, test_scores = learning_curve(\n",
        "    pipeline, X, y, cv=5, n_jobs=-1,\n",
        "    train_sizes=np.linspace(0.1, 1.0, 10))\n",
        "\n",
        "train_mean = np.mean(train_scores, axis=1)\n",
        "train_std = np.std(train_scores, axis=1)\n",
        "test_mean = np.mean(test_scores, axis=1)\n",
        "test_std = np.std(test_scores, axis=1)\n",
        "\n",
        "plt.figure(figsize=(10, 6))\n",
        "plt.plot(train_sizes, train_mean, label='Score d\\'entraînement')\n",
        "plt.fill_between(train_sizes, train_mean - train_std, train_mean + train_std, alpha=0.1)\n",
        "plt.plot(train_sizes, test_mean, label='Score de validation')\n",
        "plt.fill_between(train_sizes, test_mean - test_std, test_mean + test_std, alpha=0.1)\n",
        "\n",
        "plt.xlabel('Taille de l\\'ensemble d\\'entraînement')\n",
        "plt.ylabel('Score')\n",
        "plt.title('Courbe d\\'apprentissage')\n",
        "plt.legend(loc='best')\n",
        "plt.grid(True)\n",
        "plt.savefig('learning_curve.png')\n",
        "plt.close()"
      ]
    },
    {
      "cell_type": "code",
      "execution_count": 113,
      "metadata": {
        "colab": {
          "base_uri": "https://localhost:8080/"
        },
        "id": "uG7U6rmHlbAc",
        "outputId": "afb6fa6f-a48d-4ca9-ebad-1d67c054906a"
      },
      "outputs": [
        {
          "name": "stdout",
          "output_type": "stream",
          "text": [
            "\n",
            "Le modèle a été sauvegardé dans 'maintenance_model.joblib'\n",
            "Les visualisations ont été sauvegardées dans:\n",
            "- confusion_matrix.png\n",
            "- learning_curve.png\n",
            "- roc_curve.png\n"
          ]
        }
      ],
      "source": [
        "# Sauvegarder le modèle\n",
        "joblib.dump(pipeline, 'maintenance_model.joblib')\n",
        "\n",
        "print(\"\\nLe modèle a été sauvegardé dans 'maintenance_model.joblib'\")\n",
        "print(\"Les visualisations ont été sauvegardées dans:\")\n",
        "print(\"- confusion_matrix.png\")\n",
        "print(\"- learning_curve.png\")\n",
        "print(\"- roc_curve.png\")"
      ]
    },
    {
      "cell_type": "code",
      "execution_count": 115,
      "metadata": {
        "colab": {
          "base_uri": "https://localhost:8080/"
        },
        "id": "cjcQs6qP2zUe",
        "outputId": "a1da9e18-ab3d-49b0-d7ad-f6540b7b69b5"
      },
      "outputs": [
        {
          "name": "stdout",
          "output_type": "stream",
          "text": [
            "Index(['text_description', 'MARQUE', 'TYPE', 'GENRE', 'STATUT', 'DESI_GENR',\n",
            "       'month', 'dayofweek', 'vehicle_age', 'Kilometrage_Total'],\n",
            "      dtype='object')\n"
          ]
        }
      ],
      "source": [
        "print(X_train.columns)"
      ]
    },
    {
      "cell_type": "code",
      "execution_count": 118,
      "metadata": {
        "colab": {
          "base_uri": "https://localhost:8080/"
        },
        "id": "5apBRF4A2-IO",
        "outputId": "ec059141-afa3-4f32-fb50-26a6ca770c67"
      },
      "outputs": [
        {
          "name": "stdout",
          "output_type": "stream",
          "text": [
            "class DonneesEntree(BaseModel):\n",
            "    text_description: str\n",
            "    MARQUE: int\n",
            "    TYPE: int\n",
            "    GENRE: int\n",
            "    STATUT: int\n",
            "    DESI_GENR: int\n",
            "    month: int\n",
            "    dayofweek: int\n",
            "    vehicle_age: float\n",
            "    Kilometrage_Total: float\n"
          ]
        }
      ],
      "source": [
        "from pydantic import BaseModel\n",
        "\n",
        "print(\"class DonneesEntree(BaseModel):\")\n",
        "for col in X_train.columns:\n",
        "    dtype = X_train[col].dtype\n",
        "    if dtype == 'object':\n",
        "        pyd_type = 'str'\n",
        "    elif 'int' in str(dtype):\n",
        "        pyd_type = 'int'\n",
        "    elif 'float' in str(dtype):\n",
        "        pyd_type = 'float'\n",
        "    else:\n",
        "        pyd_type = 'str'  # Fallback par défaut\n",
        "    print(f\"    {col}: {pyd_type}\")\n"
      ]
    }
  ],
  "metadata": {
    "colab": {
      "provenance": []
    },
    "kernelspec": {
      "display_name": "env",
      "language": "python",
      "name": "python3"
    },
    "language_info": {
      "codemirror_mode": {
        "name": "ipython",
        "version": 3
      },
      "file_extension": ".py",
      "mimetype": "text/x-python",
      "name": "python",
      "nbconvert_exporter": "python",
      "pygments_lexer": "ipython3",
      "version": "3.13.3"
    }
  },
  "nbformat": 4,
  "nbformat_minor": 0
}
